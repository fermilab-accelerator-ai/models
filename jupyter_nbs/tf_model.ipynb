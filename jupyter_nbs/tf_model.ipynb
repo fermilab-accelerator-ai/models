{
 "cells": [
  {
   "cell_type": "code",
   "execution_count": 1,
   "metadata": {},
   "outputs": [],
   "source": [
    "# Import libs && packages.\n",
    "import tensorflow as tf\n",
    "import numpy as np\n",
    "import pandas as pd\n",
    "import scipy.optimize as opt\n",
    "import statsmodels.api as sm\n",
    "import matplotlib\n",
    "import matplotlib.pyplot as plt"
   ]
  },
  {
   "cell_type": "code",
   "execution_count": 2,
   "metadata": {},
   "outputs": [
    {
     "name": "stderr",
     "output_type": "stream",
     "text": [
      "C:\\ProgramData\\Anaconda3\\lib\\site-packages\\IPython\\core\\interactiveshell.py:3049: DtypeWarning: Columns (77,79,81,83,85,87) have mixed types. Specify dtype option on import or set low_memory=False.\n",
      "  interactivity=interactivity, compiler=compiler, result=result)\n"
     ]
    }
   ],
   "source": [
    "# Handle data.\n",
    "df = pd.read_csv('../data/20190606180000-20190606190000.csv')\n",
    "df=df.replace([np.inf, -np.inf], np.nan)\n",
    "df=df.dropna();\n",
    "df=df.round(decimals=5)  # round to one decimal after precision of devices\n",
    "df['diff'] = (df['B_VIMIN'] - df['B:VIMIN'])\n",
    "\n",
    "# Taking the data we're focused on.\n",
    "df2=pd.DataFrame({'time': df['time_B:VIMIN'],'diff' : df['diff'], 'err' : df['B:IMINER']})\n",
    "df2=df2.set_index(pd.DatetimeIndex(df2['time'])) # set index to time (not in-place operation)"
   ]
  },
  {
   "cell_type": "code",
   "execution_count": 3,
   "metadata": {},
   "outputs": [],
   "source": [
    "# Construct model\n",
    "def multilayer_perceptron(x, weights, biases):\n",
    "    # Hidden layer with RELU activation\n",
    "    layer_1 = tf.add(tf.matmul(x, weights['h1']), biases['b1'])\n",
    "    layer_1 = tf.nn.relu(layer_1)\n",
    "    # # Hidden layer with RELU activation\n",
    "    layer_2 = tf.add(tf.matmul(layer_1, weights['h2']), biases['b2'])\n",
    "    layer_2 = tf.nn.relu(layer_2)\n",
    "\n",
    "    # Output layer with linear activation\n",
    "    out_layer = tf.matmul(layer_2, weights['out']) + biases['out']\n",
    "    return out_layer\n",
    "\n",
    "# Learning parameters\n",
    "learning_rate = 0.0001\n",
    "training_epochs = 10000\n",
    "batch_size = 50\n",
    "display_step = 1000\n",
    "\n",
    "# Network Parameters\n",
    "n_input =  1   # layer 0 (input layer) number of features\n",
    "n_hidden_1 = 2 # layer 1 number of features\n",
    "n_hidden_2 = 2 # layer 2 number of features\n",
    "\n",
    "\n",
    "\n",
    "# Store layers weight && bias\n",
    "weights = {\n",
    "    'h1': tf.Variable(tf.random_uniform([n_input, n_hidden_1])),\n",
    "    'h2': tf.Variable(tf.random_uniform([n_hidden_1, n_hidden_2])),\n",
    "    'out': tf.Variable(tf.random_uniform([n_hidden_2, 1]))\n",
    "}\n",
    "biases = {\n",
    "    'b1': tf.Variable(tf.random_uniform([n_hidden_1])),\n",
    "    'b2': tf.Variable(tf.random_uniform([n_hidden_2])),\n",
    "    'out': tf.Variable(tf.random_uniform([1]))\n",
    "}\n",
    "\n",
    "x_data = tf.placeholder(tf.float32, [None, 1])\n",
    "y_data = tf.placeholder(tf.float32, [None, 1])\n",
    "\n",
    "# Construct model\n",
    "pred = multilayer_perceptron(x_data, weights, biases)\n",
    "\n",
    "# Build optimizer. Use mean-squared error for loss.\n",
    "loss = tf.reduce_mean(tf.square(pred - y_data))\n",
    "optimizer = tf.train.GradientDescentOptimizer(learning_rate)\n",
    "train = optimizer.minimize(loss)\n",
    "\n",
    "# Initialize variables. \n",
    "init = tf.global_variables_initializer()"
   ]
  },
  {
   "cell_type": "code",
   "execution_count": 4,
   "metadata": {},
   "outputs": [],
   "source": [
    "def normalize_data(x):\n",
    "  return (x - np.mean(x)) / np.std(x)"
   ]
  },
  {
   "cell_type": "code",
   "execution_count": 5,
   "metadata": {},
   "outputs": [],
   "source": [
    "train_data = df2.sample(n = int(0.8*len(df2['time'])), random_state = 42)\n",
    "test_data =  df2.drop(train_data.index)"
   ]
  },
  {
   "cell_type": "code",
   "execution_count": 6,
   "metadata": {},
   "outputs": [
    {
     "data": {
      "text/html": [
       "<div>\n",
       "<style scoped>\n",
       "    .dataframe tbody tr th:only-of-type {\n",
       "        vertical-align: middle;\n",
       "    }\n",
       "\n",
       "    .dataframe tbody tr th {\n",
       "        vertical-align: top;\n",
       "    }\n",
       "\n",
       "    .dataframe thead th {\n",
       "        text-align: right;\n",
       "    }\n",
       "</style>\n",
       "<table border=\"1\" class=\"dataframe\">\n",
       "  <thead>\n",
       "    <tr style=\"text-align: right;\">\n",
       "      <th></th>\n",
       "      <th>time</th>\n",
       "      <th>diff</th>\n",
       "      <th>err</th>\n",
       "    </tr>\n",
       "    <tr>\n",
       "      <th>time</th>\n",
       "      <th></th>\n",
       "      <th></th>\n",
       "      <th></th>\n",
       "    </tr>\n",
       "  </thead>\n",
       "  <tbody>\n",
       "    <tr>\n",
       "      <th>2019-06-06 23:00:00.170000076</th>\n",
       "      <td>2019-06-06 23:00:00.170000076</td>\n",
       "      <td>-0.00702</td>\n",
       "      <td>-0.07031</td>\n",
       "    </tr>\n",
       "    <tr>\n",
       "      <th>2019-06-06 23:00:00.636000156</th>\n",
       "      <td>2019-06-06 23:00:00.636000156</td>\n",
       "      <td>0.00917</td>\n",
       "      <td>0.09969</td>\n",
       "    </tr>\n",
       "    <tr>\n",
       "      <th>2019-06-06 23:00:00.702999830</th>\n",
       "      <td>2019-06-06 23:00:00.702999830</td>\n",
       "      <td>-0.01752</td>\n",
       "      <td>-0.16031</td>\n",
       "    </tr>\n",
       "    <tr>\n",
       "      <th>2019-06-06 23:00:00.835999966</th>\n",
       "      <td>2019-06-06 23:00:00.835999966</td>\n",
       "      <td>-0.02200</td>\n",
       "      <td>-0.21531</td>\n",
       "    </tr>\n",
       "    <tr>\n",
       "      <th>2019-06-06 23:00:01.102999926</th>\n",
       "      <td>2019-06-06 23:00:01.102999926</td>\n",
       "      <td>-0.00359</td>\n",
       "      <td>-0.03531</td>\n",
       "    </tr>\n",
       "  </tbody>\n",
       "</table>\n",
       "</div>"
      ],
      "text/plain": [
       "                                                        time     diff      err\n",
       "time                                                                          \n",
       "2019-06-06 23:00:00.170000076  2019-06-06 23:00:00.170000076 -0.00702 -0.07031\n",
       "2019-06-06 23:00:00.636000156  2019-06-06 23:00:00.636000156  0.00917  0.09969\n",
       "2019-06-06 23:00:00.702999830  2019-06-06 23:00:00.702999830 -0.01752 -0.16031\n",
       "2019-06-06 23:00:00.835999966  2019-06-06 23:00:00.835999966 -0.02200 -0.21531\n",
       "2019-06-06 23:00:01.102999926  2019-06-06 23:00:01.102999926 -0.00359 -0.03531"
      ]
     },
     "execution_count": 6,
     "metadata": {},
     "output_type": "execute_result"
    }
   ],
   "source": [
    "train_data['diff'].apply(normalize_data)\n",
    "train_data['err'].apply(normalize_data)\n",
    "test_data['err'].apply(normalize_data)\n",
    "test_data['err'].apply(normalize_data)\n",
    "test_data.head()"
   ]
  },
  {
   "cell_type": "code",
   "execution_count": 7,
   "metadata": {},
   "outputs": [
    {
     "name": "stdout",
     "output_type": "stream",
     "text": [
      "epoch |   x   |  y    |      prediction     |     mean-squared error\n",
      "1     | 0.031  | 0.3197 |  1.031000018119812 | 0.5059000253677368\n",
      "2     | -0.014  | -0.1953 |  0.5102999806404114 | 0.49779999256134033\n",
      "3     | -0.0371  | 0.1797 |  0.29510000348091125 | 0.013299999758601189\n",
      "4     | -0.0266  | -0.2553 |  0.1868000030517578 | 0.19539999961853027\n",
      "5     | -0.0068  | -0.0603 |  0.12559999525547028 | 0.03460000082850456\n",
      "6     | 0.0074  | 0.0797 |  0.0885000005364418 | 9.999999747378752e-05\n",
      "7     | -0.0163  | -0.1603 |  0.06120000034570694 | 0.04910000041127205\n",
      "8     | -0.0011  | -0.0903 |  0.04830000177025795 | 0.019200000911951065\n",
      "9     | 0.0063  | 0.0697 |  0.039799999445676804 | 0.0008999999845400453\n",
      "10     | 0.0755  | 0.7697 |  0.04190000146627426 | 0.529699981212616\n"
     ]
    }
   ],
   "source": [
    "test_step=0\n",
    "# Begin session.\n",
    "sess = tf.Session()\n",
    "sess.run(init)\n",
    "print(\"epoch |   x   |  y    |      prediction     |     mean-squared error\")\n",
    "for step in range(training_epochs):\n",
    "    train_samp = train_data.sample(n=batch_size, random_state = 42)\n",
    "    x_in = np.array(train_samp['diff'].values)\n",
    "    y_in = np.array(train_samp['err'].values)\n",
    "    x_in = x_in.reshape(-1,1)\n",
    "    y_in = y_in.reshape(-1,1)\n",
    "    sess.run(train, feed_dict = {x_data: x_in, y_data: y_in})  \n",
    "    if(step % display_step == 0):\n",
    "        test_step += 1\n",
    "        test_samp =  test_data.sample(n=1,random_state = step)\n",
    "        x_test = np.array(test_samp['diff'].values)\n",
    "        y_test = np.array(test_samp['err'].values)\n",
    "        x_test = x_test.reshape(-1,1)\n",
    "        y_test = y_test.reshape(-1,1)\n",
    "\n",
    "        test_pred = sess.run(pred, feed_dict={x_data: x_test})\n",
    "        test_loss = sess.run(loss, feed_dict={x_data: x_test, y_data: y_test})\n",
    "        \n",
    "        print(\"{0}     | {1}  | {2} |  {3} | {4}\".format(test_step, round(x_test[0][0],4), round(y_test[0][0],4),np.round(test_pred[0][0],4), round(test_loss,4)))"
   ]
  },
  {
   "cell_type": "code",
   "execution_count": 8,
   "metadata": {},
   "outputs": [
    {
     "name": "stdout",
     "output_type": "stream",
     "text": [
      "mse over test set:  0.53520685\n"
     ]
    }
   ],
   "source": [
    "x_test_f = np.array(test_data['diff'].values)\n",
    "y_test_f = np.array(test_data['err'].values)\n",
    "x_test_f = x_test_f.reshape(-1,1)\n",
    "y_test_f = y_test_f.reshape(-1,1)\n",
    "test_samp = sess.run(pred, feed_dict={x_data: x_test})\n",
    "test_loss = sess.run(loss, feed_dict={x_data: x_test, y_data: y_test})\n",
    "print('mse over test set: ', test_loss)"
   ]
  },
  {
   "cell_type": "code",
   "execution_count": null,
   "metadata": {},
   "outputs": [],
   "source": [
    "tf."
   ]
  }
 ],
 "metadata": {
  "kernelspec": {
   "display_name": "Python 3",
   "language": "python",
   "name": "python3"
  },
  "language_info": {
   "codemirror_mode": {
    "name": "ipython",
    "version": 3
   },
   "file_extension": ".py",
   "mimetype": "text/x-python",
   "name": "python",
   "nbconvert_exporter": "python",
   "pygments_lexer": "ipython3",
   "version": "3.7.3"
  }
 },
 "nbformat": 4,
 "nbformat_minor": 2
}
