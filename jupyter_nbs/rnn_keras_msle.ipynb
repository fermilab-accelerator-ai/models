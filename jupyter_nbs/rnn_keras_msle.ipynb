{
 "cells": [
  {
   "cell_type": "code",
   "execution_count": 1,
   "metadata": {},
   "outputs": [
    {
     "name": "stderr",
     "output_type": "stream",
     "text": [
      "Using TensorFlow backend.\n"
     ]
    }
   ],
   "source": [
    "import pandas as pd\n",
    "import numpy as np\n",
    "from math import sqrt\n",
    "from matplotlib import pyplot as plt\n",
    "from sklearn.preprocessing import MinMaxScaler\n",
    "from sklearn.preprocessing import LabelEncoder\n",
    "from sklearn.metrics import mean_squared_error\n",
    "from keras.models import Sequential\n",
    "from keras.layers import Dense\n",
    "from keras.layers import LSTM\n",
    "from keras.optimizers import SGD"
   ]
  },
  {
   "cell_type": "code",
   "execution_count": 2,
   "metadata": {},
   "outputs": [],
   "source": [
    "# Handle data.\n",
    "df = pd.read_csv('../data/20190624075954-20190624124954.csv')\n",
    "df=df.replace([np.inf, -np.inf], np.nan)\n",
    "df=df.dropna();\n",
    "df=df.round(decimals=6)  # round to two decimals after precision of devices\n",
    "df['diff'] = (df['B_VIMIN'] - df['B:VIMIN'])\n",
    "\n",
    "# Taking the data we're focused on.\n",
    "df2=pd.DataFrame({'time': df['time_B:VIMIN'],'diff' : df['diff'], 'err' : df['B:IMINER']})\n",
    "df2=df2.set_index(pd.DatetimeIndex(df2['time'])) # set index to time (not in-place operation)"
   ]
  },
  {
   "cell_type": "code",
   "execution_count": 3,
   "metadata": {},
   "outputs": [],
   "source": [
    "# FUNCTION: series_to_supervised\n",
    "# INPUT: data   ~ numpy array of time series observations\n",
    "#       n_lag   ~ number of lag observations as input \n",
    "#       n_out   ~ number of observations as output.\n",
    "#       dropnan ~ Boolean whether or not to drop rows with NaN values.\n",
    "# sourced: https://machinelearningmastery.com/multivariate-time-series-forecasting-lstms-keras/\n",
    "def series_to_supervised(data, n_lag=1, n_out=1, dropnan=True):\n",
    "    n_vars = 1 if type(data) is list else data.shape[1]\n",
    "    df = pd.DataFrame(data)\n",
    "    col_data = []\n",
    "    col_names = []\n",
    "    # build the input sequence by concatenating farthest to closest in time\n",
    "    for i in range(n_lag, 0, -1):\n",
    "        col_data.append(df.shift(i))\n",
    "        col_names += [('var%d(t-%d)' % (j+1, i)) for j in range(n_vars)]\n",
    "    # build the output sequence\n",
    "    for i in range(0, n_out):\n",
    "        col_data.append(df.shift(-i))\n",
    "        if i == 0:\n",
    "            col_names += [('x%d(t)' % (j+1)) for j in range(n_vars)]\n",
    "        else:\n",
    "            col_names += [('x%d(t+%d)' % (j+1, i)) for j in range(n_vars)]\n",
    "    agg = pd.concat(col_data, axis=1)\n",
    "    agg.columns =col_names\n",
    "    # drop rows with NaN values\n",
    "    if dropnan:\n",
    "        agg.dropna(inplace=True)\n",
    "    return agg"
   ]
  },
  {
   "cell_type": "code",
   "execution_count": 4,
   "metadata": {},
   "outputs": [],
   "source": [
    "ts1 = np.array(df2['diff'].values)\n",
    "ts1=ts1.reshape(-1,1)\n",
    "#ts1 = normalize_data(ts1)\n",
    "scaler = MinMaxScaler(feature_range=(0, 1))\n",
    "ts1 = scaler.fit_transform(ts1)\n",
    "\n",
    "data_sup = pd.DataFrame(series_to_supervised(ts1,10))"
   ]
  },
  {
   "cell_type": "code",
   "execution_count": 5,
   "metadata": {},
   "outputs": [
    {
     "name": "stdout",
     "output_type": "stream",
     "text": [
      "(205760, 1, 10) (205760,) (51441, 1, 10) (51441,)\n"
     ]
    }
   ],
   "source": [
    "samp_freq = 15 # Hz\n",
    "hr2sec = 3600 # convert hrs to seconds\n",
    "pred_window = 15;\n",
    "p = 0.8 # percent of data to take\n",
    "n_train = int(len(data_sup)* p)\n",
    "train = data_sup.values[:n_train, :]\n",
    "test = data_sup.values[n_train:, :]\n",
    "# split into input and outputs\n",
    "x_train, y_train = train[:, :-1], train[:, -1]\n",
    "x_test, y_test = test[:, :-1], test[:, -1]\n",
    "# reshape input to be 3D [samples, timesteps, features]\n",
    "x_train = x_train.reshape((x_train.shape[0], 1, x_train.shape[1]))\n",
    "x_test = x_test.reshape((x_test.shape[0], 1, x_test.shape[1]))\n",
    "print(x_train.shape, y_train.shape, x_test.shape, y_test.shape)"
   ]
  },
  {
   "cell_type": "code",
   "execution_count": 6,
   "metadata": {},
   "outputs": [
    {
     "name": "stderr",
     "output_type": "stream",
     "text": [
      "WARNING: Logging before flag parsing goes to stderr.\n",
      "W0625 15:49:29.631353 19268 deprecation_wrapper.py:118] From C:\\Users\\Rachael\\.conda\\envs\\py3tf1gnt\\lib\\site-packages\\keras\\backend\\tensorflow_backend.py:74: The name tf.get_default_graph is deprecated. Please use tf.compat.v1.get_default_graph instead.\n",
      "\n",
      "W0625 15:49:29.666359 19268 deprecation_wrapper.py:118] From C:\\Users\\Rachael\\.conda\\envs\\py3tf1gnt\\lib\\site-packages\\keras\\backend\\tensorflow_backend.py:517: The name tf.placeholder is deprecated. Please use tf.compat.v1.placeholder instead.\n",
      "\n",
      "W0625 15:49:29.672357 19268 deprecation_wrapper.py:118] From C:\\Users\\Rachael\\.conda\\envs\\py3tf1gnt\\lib\\site-packages\\keras\\backend\\tensorflow_backend.py:4138: The name tf.random_uniform is deprecated. Please use tf.random.uniform instead.\n",
      "\n",
      "W0625 15:49:30.295405 19268 deprecation_wrapper.py:118] From C:\\Users\\Rachael\\.conda\\envs\\py3tf1gnt\\lib\\site-packages\\keras\\optimizers.py:790: The name tf.train.Optimizer is deprecated. Please use tf.compat.v1.train.Optimizer instead.\n",
      "\n",
      "W0625 15:49:30.309420 19268 deprecation_wrapper.py:118] From C:\\Users\\Rachael\\.conda\\envs\\py3tf1gnt\\lib\\site-packages\\keras\\backend\\tensorflow_backend.py:1521: The name tf.log is deprecated. Please use tf.math.log instead.\n",
      "\n",
      "W0625 15:49:30.614428 19268 deprecation.py:323] From C:\\Users\\Rachael\\.conda\\envs\\py3tf1gnt\\lib\\site-packages\\tensorflow\\python\\ops\\math_grad.py:1250: add_dispatch_support.<locals>.wrapper (from tensorflow.python.ops.array_ops) is deprecated and will be removed in a future version.\n",
      "Instructions for updating:\n",
      "Use tf.where in 2.0, which has the same broadcast rule as np.where\n",
      "W0625 15:49:32.049536 19268 deprecation_wrapper.py:118] From C:\\Users\\Rachael\\.conda\\envs\\py3tf1gnt\\lib\\site-packages\\keras\\backend\\tensorflow_backend.py:986: The name tf.assign_add is deprecated. Please use tf.compat.v1.assign_add instead.\n",
      "\n"
     ]
    },
    {
     "name": "stdout",
     "output_type": "stream",
     "text": [
      "Train on 205760 samples, validate on 51441 samples\n",
      "Epoch 1/10\n",
      " - 3s - loss: 6.1427e-04 - mean_squared_error: 0.0014 - val_loss: 5.6236e-09 - val_mean_squared_error: 5.7964e-09\n",
      "Epoch 2/10\n",
      " - 1s - loss: 5.7733e-04 - mean_squared_error: 0.0013 - val_loss: 7.3170e-09 - val_mean_squared_error: 7.5423e-09\n",
      "Epoch 3/10\n",
      " - 2s - loss: 5.6735e-04 - mean_squared_error: 0.0013 - val_loss: 7.2387e-09 - val_mean_squared_error: 7.4617e-09\n",
      "Epoch 4/10\n",
      " - 2s - loss: 5.5763e-04 - mean_squared_error: 0.0013 - val_loss: 7.1584e-09 - val_mean_squared_error: 7.3789e-09\n",
      "Epoch 5/10\n",
      " - 2s - loss: 5.4814e-04 - mean_squared_error: 0.0013 - val_loss: 7.0810e-09 - val_mean_squared_error: 7.2991e-09\n",
      "Epoch 6/10\n",
      " - 1s - loss: 5.3888e-04 - mean_squared_error: 0.0013 - val_loss: 7.0063e-09 - val_mean_squared_error: 7.2220e-09\n",
      "Epoch 7/10\n",
      " - 1s - loss: 5.2983e-04 - mean_squared_error: 0.0012 - val_loss: 6.9336e-09 - val_mean_squared_error: 7.1471e-09\n",
      "Epoch 8/10\n",
      " - 1s - loss: 5.2100e-04 - mean_squared_error: 0.0012 - val_loss: 6.8633e-09 - val_mean_squared_error: 7.0747e-09\n",
      "Epoch 9/10\n",
      " - 1s - loss: 5.1237e-04 - mean_squared_error: 0.0012 - val_loss: 6.7952e-09 - val_mean_squared_error: 7.0044e-09\n",
      "Epoch 10/10\n",
      " - 2s - loss: 5.0393e-04 - mean_squared_error: 0.0012 - val_loss: 6.7295e-09 - val_mean_squared_error: 6.9366e-09\n"
     ]
    }
   ],
   "source": [
    "# design network\n",
    "model = Sequential()\n",
    "model.add(LSTM(50, input_shape=(x_train.shape[1], x_train.shape[2])))\n",
    "model.add(Dense(1))\n",
    "opt = SGD(lr=0.001, momentum=0.9)\n",
    "model.compile(loss='mean_squared_logarithmic_error', optimizer=opt, metrics=['mse'])\n",
    "# model.compile(loss='mae', optimizer='adam')\n",
    "# fit network\n",
    "history = model.fit(x_train, y_train, epochs=10, batch_size=1000, validation_data=(x_test, y_test), verbose=2, shuffle=False)"
   ]
  },
  {
   "cell_type": "code",
   "execution_count": 7,
   "metadata": {
    "scrolled": true
   },
   "outputs": [
    {
     "data": {
      "image/png": "[encoded data removed]",
      "text/plain": [
       "<Figure size 432x288 with 1 Axes>"
      ]
     },
     "metadata": {
      "needs_background": "light"
     },
     "output_type": "display_data"
    }
   ],
   "source": [
    "# plot history\n",
    "plt.plot(history.history['loss'], label='train')\n",
    "plt.plot(history.history['val_loss'], label='test')\n",
    "plt.legend()\n",
    "plt.title(\"Loss function for RNN with LSTSM\")\n",
    "plt.xlabel('Epoch')\n",
    "plt.ylabel('Loss Evaluation')\n",
    "plt.show()"
   ]
  },
  {
   "cell_type": "code",
   "execution_count": 8,
   "metadata": {},
   "outputs": [
    {
     "name": "stdout",
     "output_type": "stream",
     "text": [
      "Test RMSE: 0.009\n"
     ]
    }
   ],
   "source": [
    "# make a prediction\n",
    "yhat = model.predict(x_test)\n",
    "x_test = x_test.reshape((x_test.shape[0], x_test.shape[2]))\n",
    "\n",
    "# transform back to original coordinates\n",
    "inv_yhat = np.concatenate((yhat, x_test[:, -pred_window:]), axis=1)\n",
    "inv_yhat = scaler.inverse_transform(inv_yhat)\n",
    "inv_yhat = inv_yhat[:,0]\n",
    "\n",
    "y_test = y_test.reshape((len(y_test), 1))\n",
    "inv_y = np.concatenate((y_test, x_test[:, -pred_window:]), axis=1)\n",
    "inv_y = scaler.inverse_transform(inv_y)\n",
    "inv_y = inv_y[:,0]\n",
    "\n",
    "# calculate RMSE\n",
    "rmse = sqrt(mean_squared_error(inv_y, inv_yhat))\n",
    "print('Test RMSE: %.3f' % rmse)"
   ]
  },
  {
   "cell_type": "code",
   "execution_count": null,
   "metadata": {},
   "outputs": [],
   "source": []
  }
 ],
 "metadata": {
  "kernelspec": {
   "display_name": "Python 3",
   "language": "python",
   "name": "python3"
  },
  "language_info": {
   "codemirror_mode": {
    "name": "ipython",
    "version": 3
   },
   "file_extension": ".py",
   "mimetype": "text/x-python",
   "name": "python",
   "nbconvert_exporter": "python",
   "pygments_lexer": "ipython3",
   "version": "3.7.3"
  }
 },
 "nbformat": 4,
 "nbformat_minor": 2
}
