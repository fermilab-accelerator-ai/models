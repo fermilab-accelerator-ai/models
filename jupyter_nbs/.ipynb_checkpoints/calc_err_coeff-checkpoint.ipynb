{
 "cells": [
  {
   "cell_type": "code",
   "execution_count": 1,
   "metadata": {},
   "outputs": [
    {
     "name": "stderr",
     "output_type": "stream",
     "text": [
      "C:\\Users\\Rachael\\.conda\\envs\\py3tf1gnt\\lib\\site-packages\\IPython\\core\\interactiveshell.py:3049: DtypeWarning: Columns (77,79,81,83,85,87) have mixed types. Specify dtype option on import or set low_memory=False.\n",
      "  interactivity=interactivity, compiler=compiler, result=result)\n"
     ]
    }
   ],
   "source": [
    "import matplotlib\n",
    "import matplotlib.pyplot as plt\n",
    "import numpy as np\n",
    "import pandas as pd\n",
    "import scipy.optimize as opt\n",
    "import statsmodels.api as sm\n",
    "df = pd.read_csv('../data/20190606180000-20190606190000.csv')\n",
    "df=df.replace([np.inf, -np.inf], np.nan)\n",
    "df=df.dropna();"
   ]
  },
  {
   "cell_type": "code",
   "execution_count": 2,
   "metadata": {},
   "outputs": [],
   "source": [
    "df=df.round(decimals=5)  # round to one decimal after precision of devices\n",
    "df['diff'] = (df['B_VIMIN'] - df['B:VIMIN'])\n",
    "df2= pd.DataFrame({'diff' : df['diff'], 'err' : df['B:IMINER']})"
   ]
  },
  {
   "cell_type": "code",
   "execution_count": 3,
   "metadata": {},
   "outputs": [
    {
     "data": {
      "text/html": [
       "<div>\n",
       "<style scoped>\n",
       "    .dataframe tbody tr th:only-of-type {\n",
       "        vertical-align: middle;\n",
       "    }\n",
       "\n",
       "    .dataframe tbody tr th {\n",
       "        vertical-align: top;\n",
       "    }\n",
       "\n",
       "    .dataframe thead th {\n",
       "        text-align: right;\n",
       "    }\n",
       "</style>\n",
       "<table border=\"1\" class=\"dataframe\">\n",
       "  <thead>\n",
       "    <tr style=\"text-align: right;\">\n",
       "      <th></th>\n",
       "      <th>diff</th>\n",
       "      <th>err</th>\n",
       "    </tr>\n",
       "  </thead>\n",
       "  <tbody>\n",
       "    <tr>\n",
       "      <th>0</th>\n",
       "      <td>0.00665</td>\n",
       "      <td>0.07469</td>\n",
       "    </tr>\n",
       "    <tr>\n",
       "      <th>1</th>\n",
       "      <td>0.00104</td>\n",
       "      <td>0.01469</td>\n",
       "    </tr>\n",
       "    <tr>\n",
       "      <th>2</th>\n",
       "      <td>-0.00702</td>\n",
       "      <td>-0.07031</td>\n",
       "    </tr>\n",
       "    <tr>\n",
       "      <th>3</th>\n",
       "      <td>-0.00241</td>\n",
       "      <td>-0.02031</td>\n",
       "    </tr>\n",
       "    <tr>\n",
       "      <th>4</th>\n",
       "      <td>-0.00304</td>\n",
       "      <td>-0.02031</td>\n",
       "    </tr>\n",
       "  </tbody>\n",
       "</table>\n",
       "</div>"
      ],
      "text/plain": [
       "      diff      err\n",
       "0  0.00665  0.07469\n",
       "1  0.00104  0.01469\n",
       "2 -0.00702 -0.07031\n",
       "3 -0.00241 -0.02031\n",
       "4 -0.00304 -0.02031"
      ]
     },
     "execution_count": 3,
     "metadata": {},
     "output_type": "execute_result"
    }
   ],
   "source": [
    "df2.head()"
   ]
  },
  {
   "cell_type": "code",
   "execution_count": 4,
   "metadata": {},
   "outputs": [
    {
     "data": {
      "text/html": [
       "<div>\n",
       "<style scoped>\n",
       "    .dataframe tbody tr th:only-of-type {\n",
       "        vertical-align: middle;\n",
       "    }\n",
       "\n",
       "    .dataframe tbody tr th {\n",
       "        vertical-align: top;\n",
       "    }\n",
       "\n",
       "    .dataframe thead th {\n",
       "        text-align: right;\n",
       "    }\n",
       "</style>\n",
       "<table border=\"1\" class=\"dataframe\">\n",
       "  <thead>\n",
       "    <tr style=\"text-align: right;\">\n",
       "      <th></th>\n",
       "      <th>diff</th>\n",
       "      <th>err</th>\n",
       "    </tr>\n",
       "  </thead>\n",
       "  <tbody>\n",
       "    <tr>\n",
       "      <th>15799</th>\n",
       "      <td>0.02188</td>\n",
       "      <td>0.09469</td>\n",
       "    </tr>\n",
       "    <tr>\n",
       "      <th>30041</th>\n",
       "      <td>-0.02069</td>\n",
       "      <td>0.12469</td>\n",
       "    </tr>\n",
       "    <tr>\n",
       "      <th>18673</th>\n",
       "      <td>-0.00498</td>\n",
       "      <td>-0.04531</td>\n",
       "    </tr>\n",
       "    <tr>\n",
       "      <th>32461</th>\n",
       "      <td>-0.02418</td>\n",
       "      <td>-0.08031</td>\n",
       "    </tr>\n",
       "    <tr>\n",
       "      <th>31338</th>\n",
       "      <td>-0.00314</td>\n",
       "      <td>0.11969</td>\n",
       "    </tr>\n",
       "  </tbody>\n",
       "</table>\n",
       "</div>"
      ],
      "text/plain": [
       "          diff      err\n",
       "15799  0.02188  0.09469\n",
       "30041 -0.02069  0.12469\n",
       "18673 -0.00498 -0.04531\n",
       "32461 -0.02418 -0.08031\n",
       "31338 -0.00314  0.11969"
      ]
     },
     "execution_count": 4,
     "metadata": {},
     "output_type": "execute_result"
    }
   ],
   "source": [
    "df2.drop(df2[df2['diff'] == 0].index, inplace=True)\n",
    "\n",
    "sample_size = 4500;\n",
    "train = df2.sample(n = sample_size, random_state = 42)\n",
    "train.head()"
   ]
  },
  {
   "cell_type": "code",
   "execution_count": 5,
   "metadata": {},
   "outputs": [],
   "source": [
    "x = train['err']\n",
    "y = train['diff']\n",
    "A = np.vstack([x, np.ones(len(x))]).T"
   ]
  },
  {
   "cell_type": "code",
   "execution_count": 6,
   "metadata": {},
   "outputs": [
    {
     "name": "stdout",
     "output_type": "stream",
     "text": [
      "scaling factor:  0.05633398268280408 ; bias:  -0.0019228759139582102\n",
      "R^2 value: 0.9999085102010787\n",
      "min diff:  1.0000000003174137e-05 ; max diff:  0.6981999999999999\n"
     ]
    }
   ],
   "source": [
    "# regress: y = mx + b\n",
    "# rewrite: y = [x, 1]^T [m,b] \n",
    "#            = A^t [m,b]\n",
    "#  ==> [m,b] = inv(A A^t)Ay\n",
    "# or solve for [m, b] using np\n",
    "m, b = np.linalg.lstsq(A, y, rcond = None)[0] # return slope m and bias b\n",
    "\n",
    "# calculate R^2 value to get an idea of fit\n",
    "ssres = sum(y- (m*x + b))**2;\n",
    "sstot = sum(y-np.mean(y))**2;\n",
    "rsq = 1.0 - (ssres/sstot)\n",
    "\n",
    "# print results\n",
    "rs_str = 'R^2 value: ' + str(rsq)\n",
    "print('scaling factor: ' , m,'; bias: ', b)\n",
    "print(rs_str)\n",
    "print('min diff: ' , min(abs(y)),'; max diff: ', max(abs(y)))"
   ]
  },
  {
   "cell_type": "code",
   "execution_count": 7,
   "metadata": {},
   "outputs": [
    {
     "data": {
      "image/png": "[encoded data removed]",
      "text/plain": [
       "<Figure size 432x288 with 1 Axes>"
      ]
     },
     "metadata": {
      "needs_background": "light"
     },
     "output_type": "display_data"
    }
   ],
   "source": [
    "# plot results\n",
    "plt.plot(x, y, 'o', label='data', markersize=10)\n",
    "plt.plot(x, m*x + b, 'r', label='model')\n",
    "plt.text(-0.5,-0.5, rs_str)\n",
    "str_desc = 'y = ' + str('%.4f'%m) + 'x + '+ str('%.4f'%b);\n",
    "plt.text(-0.5,-0.55, str_desc)\n",
    "plt.title('Relationship between Error and Difference')\n",
    "plt.xlabel('Error: B:IMINER')\n",
    "plt.ylabel('Difference: B_VIMIN - B:VIMIN')\n",
    "plt.legend()\n",
    "plt.show()"
   ]
  },
  {
   "cell_type": "markdown",
   "metadata": {},
   "source": [
    "Now we play with the same data but consider a coupling in time of the data.\n",
    "We assume the difference in 'err' and 'diff' is offset by one time step."
   ]
  },
  {
   "cell_type": "code",
   "execution_count": 8,
   "metadata": {},
   "outputs": [],
   "source": [
    "df3 = pd.DataFrame({'diff': df['B_VIMIN'][0:-2] - df['B:VIMIN'][0:-2], 'err' : df['B:IMINER'][1:-1]})\n",
    "df3.drop(df2[df2['diff'] == 0].index, inplace=True)\n",
    "train2 = df3.sample(n = sample_size, random_state = 42)\n",
    "train2.head()\n",
    "x2 = train['err']\n",
    "y2 = train['diff']\n",
    "A2 = np.vstack([x2, np.ones(len(x2))]).T"
   ]
  },
  {
   "cell_type": "code",
   "execution_count": 9,
   "metadata": {},
   "outputs": [
    {
     "name": "stdout",
     "output_type": "stream",
     "text": [
      "scaling factor:  0.05633398268280408 ; bias:  -0.0019228759139582102\n",
      "R^2 value: 0.9999085102010787\n",
      "min diff:  1.0000000003174137e-05 ; max diff:  0.6981999999999999\n"
     ]
    }
   ],
   "source": [
    "# regress: y = mx + b\n",
    "# rewrite: y = [x, 1]^T [m,b] \n",
    "#            = A^t [m,b]\n",
    "#  ==> [m,b] = inv(A A^t)Ay\n",
    "# or solve for [m, b] using np\n",
    "m2, b2 = np.linalg.lstsq(A2, y2, rcond = None)[0] # return slope m and bias b\n",
    "\n",
    "# calculate R^2 value to get an idea of fit\n",
    "ssres2 = sum(y2- (m2*x2 + b2))**2;\n",
    "sstot2 = sum(y2-np.mean(y2))**2;\n",
    "rsq2 = 1.0 - (ssres2/sstot2)\n",
    "\n",
    "# print results\n",
    "rs_str2 = 'R^2 value: ' + str(rsq2)\n",
    "print('scaling factor: ' , m2,'; bias: ', b2)\n",
    "print(rs_str2)\n",
    "print('min diff: ' , min(abs(y2)),'; max diff: ', max(abs(y2)))"
   ]
  },
  {
   "cell_type": "code",
   "execution_count": 10,
   "metadata": {},
   "outputs": [
    {
     "data": {
      "image/png": "[encoded data removed]",
      "text/plain": [
       "<Figure size 432x288 with 1 Axes>"
      ]
     },
     "metadata": {
      "needs_background": "light"
     },
     "output_type": "display_data"
    }
   ],
   "source": [
    "plt.plot(x2, y2, 'o', label='data', markersize=10)\n",
    "plt.plot(x2, m2*x2 + b2, 'r', label='model')\n",
    "plt.text(-0.5,-0.5, rs_str)\n",
    "str_desc2 = 'y = ' + str('%.4f'%m2) + 'x + '+ str('%.4f'%b2);\n",
    "plt.text(-0.5,-0.55, str_desc2)\n",
    "plt.title('Relationship between Error and Difference')\n",
    "plt.xlabel('Error: B:IMINER')\n",
    "plt.ylabel('Difference: B_VIMIN - B:VIMIN')\n",
    "plt.text(-0.5,-0.5, rs_str2)\n",
    "plt.legend()\n",
    "plt.show()"
   ]
  },
  {
   "cell_type": "code",
   "execution_count": 11,
   "metadata": {},
   "outputs": [],
   "source": [
    "# by hand approach to estimating coeff\n",
    "sx   = np.sum(x)\n",
    "sy   = np.sum(y)\n",
    "sx2 = np.sum(x**2)\n",
    "sy2 = np.sum(y**2)\n",
    "sxy  = np.dot(x,y)\n",
    "n= float(len(x));\n",
    "mhat = (n*sxy - sx*sy)/(n*sx2 - sx**2)\n",
    "bhat = (1.0/n)*sy - mhat/n*sx\n",
    "sig_ep2   = (1.0/(n*(n-2)))*(n*sy2 - sy**2 - (mhat**2)*(n*sx2 - sx**2))\n",
    "sig_mhat2 = n*sig_ep2/(n*sx2-sx**2)\n",
    "sig_bhat2 = sig_mhat2/n*(sx2)"
   ]
  },
  {
   "cell_type": "code",
   "execution_count": 12,
   "metadata": {},
   "outputs": [
    {
     "name": "stdout",
     "output_type": "stream",
     "text": [
      "coefficient 95-degree of confidence is 0.0563 +- 0.0043\n",
      "note these are the values that the difference between true value and sampled is insignificant at the 0.05-level\n",
      "fro future samples, coeff will be in interval (0.0483, 0.0644) \n"
     ]
    }
   ],
   "source": [
    "# t-test vals for n=998 points, from simulation-math.com/TDistTable.pdf:\n",
    "# 998 0.675 0.842 1.037 1.282 1.646 1.962 2.056 2.330 2.581 2.813  3.098 3.300\n",
    "# DOF 0.25   0.2   0.15  0.1   0.05 0.025 0.02  0.01  0.005 0.0025 0.001 0.0005\n",
    "bhat_upper = bhat + 3.098*np.sqrt(sig_bhat2)\n",
    "bhat_lower = bhat - 3.098*np.sqrt(sig_bhat2)\n",
    "mhat_upper = mhat + 3.098*np.sqrt(sig_mhat2)\n",
    "mhat_lower = mhat - 3.098*np.sqrt(sig_mhat2)\n",
    "mhat_conf = 1.646*np.sqrt(sig_mhat2)\n",
    "print('coefficient 95-degree of confidence is %0.4f'%mhat, '+- %0.4f'%mhat_conf)\n",
    "print('fro future samples, coeff will be in interval (%0.4f,'%mhat_lower, '%0.4f) '%mhat_upper)"
   ]
  },
  {
   "cell_type": "code",
   "execution_count": null,
   "metadata": {},
   "outputs": [],
   "source": []
  }
 ],
 "metadata": {
  "kernelspec": {
   "display_name": "Python 3",
   "language": "python",
   "name": "python3"
  },
  "language_info": {
   "codemirror_mode": {
    "name": "ipython",
    "version": 3
   },
   "file_extension": ".py",
   "mimetype": "text/x-python",
   "name": "python",
   "nbconvert_exporter": "python",
   "pygments_lexer": "ipython3",
   "version": "3.7.3"
  }
 },
 "nbformat": 4,
 "nbformat_minor": 2
}
