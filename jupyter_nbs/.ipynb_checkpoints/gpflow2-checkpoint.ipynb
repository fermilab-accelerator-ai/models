{
 "cells": [
  {
   "cell_type": "markdown",
   "metadata": {},
   "source": [
    "We want to understand the time dependence of the data. To do so, we try to use Gaussian Processes from GPFlow, which is powered by TensorFlow."
   ]
  },
  {
   "cell_type": "code",
   "execution_count": 1,
   "metadata": {},
   "outputs": [
    {
     "name": "stderr",
     "output_type": "stream",
     "text": [
      "WARNING: Logging before flag parsing goes to stderr.\n",
      "W0617 05:13:59.812381 20500 deprecation_wrapper.py:118] From C:\\Users\\Rachael\\.conda\\envs\\py3tf1gnt\\lib\\site-packages\\gpflow\\session_manager.py:31: The name tf.Session is deprecated. Please use tf.compat.v1.Session instead.\n",
      "\n",
      "W0617 05:13:59.818385 20500 deprecation_wrapper.py:118] From C:\\Users\\Rachael\\.conda\\envs\\py3tf1gnt\\lib\\site-packages\\gpflow\\misc.py:25: The name tf.GraphKeys is deprecated. Please use tf.compat.v1.GraphKeys instead.\n",
      "\n",
      "W0617 05:13:59.927390 20500 deprecation_wrapper.py:118] From C:\\Users\\Rachael\\.conda\\envs\\py3tf1gnt\\lib\\site-packages\\gpflow\\saver\\coders.py:80: The name tf.data.Iterator is deprecated. Please use tf.compat.v1.data.Iterator instead.\n",
      "\n"
     ]
    }
   ],
   "source": [
    "# import libs && tools\n",
    "import numpy as np\n",
    "import pandas as pd\n",
    "import gpflow\n",
    "import matplotlib\n",
    "%matplotlib inline\n",
    "matplotlib.rcParams['figure.figsize'] = (12,6)\n",
    "plt = matplotlib.pyplot"
   ]
  },
  {
   "cell_type": "code",
   "execution_count": 2,
   "metadata": {},
   "outputs": [
    {
     "name": "stderr",
     "output_type": "stream",
     "text": [
      "C:\\Users\\Rachael\\.conda\\envs\\py3tf1gnt\\lib\\site-packages\\IPython\\core\\interactiveshell.py:3049: DtypeWarning: Columns (77,79,81,83,85,87) have mixed types. Specify dtype option on import or set low_memory=False.\n",
      "  interactivity=interactivity, compiler=compiler, result=result)\n"
     ]
    }
   ],
   "source": [
    "# import and handle data\n",
    "df = pd.read_csv('../data/20190606180000-20190606190000.csv')\n",
    "df=df.replace([np.inf, -np.inf], np.nan)\n",
    "df=df.dropna();\n",
    "df=df.round(decimals=5)  # round to one decimal after precision of devices\n",
    "df['diff'] = (df['B_VIMIN'] - df['B:VIMIN'])\n",
    "df2= pd.DataFrame({'diff' : df['diff'], 'err' : df['B:IMINER']})\n",
    "col1,col2,col3,col4='B:IMINER','B:VIMIN','B_VIMIN', 'B_VIMAX'"
   ]
  },
  {
   "cell_type": "code",
   "execution_count": 3,
   "metadata": {},
   "outputs": [],
   "source": [
    "# define period of TLG\n",
    "horizon = 61.4; # unit: sec. horizon of TLG..61.-- sec\n",
    "cycle   = 15; # 15Hz sampling\n",
    "supercycle = int(cycle*horizon);\n",
    "\n",
    "num_train = 1*supercycle"
   ]
  },
  {
   "cell_type": "code",
   "execution_count": 4,
   "metadata": {},
   "outputs": [],
   "source": [
    "np.random.seed(1)\n",
    "X = np.random.rand(num_train,1) \n",
    "X2 = np.array(df[[col1,col2]][:num_train].values)#,df[col2][:num_train].values)\n",
    "X2.shape\n",
    "#X[:][0] = df[col1][:num_train].values\n",
    "X[:,0] =  df[col4][:num_train].values"
   ]
  },
  {
   "cell_type": "code",
   "execution_count": 5,
   "metadata": {},
   "outputs": [
    {
     "data": {
      "text/plain": [
       "Text(0, 0.5, 'observed data value')"
      ]
     },
     "execution_count": 5,
     "metadata": {},
     "output_type": "execute_result"
    },
    {
     "data": {
      "image/png": "[encoded data removed]",
      "text/plain": [
       "<Figure size 432x288 with 2 Axes>"
      ]
     },
     "metadata": {
      "needs_background": "light"
     },
     "output_type": "display_data"
    }
   ],
   "source": [
    "n = len(X)\n",
    "K = np.exp(-0.5*np.square(X - X.T)/0.01) + np.eye(n)*1e-6\n",
    "f = np.dot(np.linalg.cholesky(K), np.random.randn(n, 1))\n",
    "f[:,0] =  df[col1][:num_train].values\n",
    "\n",
    "plt.plot(X, f, '.')\n",
    "plt.ylabel('latent function value')\n",
    "\n",
    "Y = f;#np.round((f + f.min())*3)\n",
    "Y = Y #- Y.min()\n",
    "Y = np.asarray(Y, np.float64)\n",
    "\n",
    "\n",
    "plt.twinx()\n",
    "plt.plot(X, Y, 'kx', mew=1.5)\n",
    "plt.ylabel('observed data value')"
   ]
  },
  {
   "cell_type": "code",
   "execution_count": 6,
   "metadata": {},
   "outputs": [
    {
     "name": "stderr",
     "output_type": "stream",
     "text": [
      "W0617 05:14:03.383649 20500 deprecation_wrapper.py:118] From C:\\Users\\Rachael\\.conda\\envs\\py3tf1gnt\\lib\\site-packages\\gpflow\\core\\node.py:109: The name tf.get_default_graph is deprecated. Please use tf.compat.v1.get_default_graph instead.\n",
      "\n",
      "W0617 05:14:03.409652 20500 deprecation_wrapper.py:118] From C:\\Users\\Rachael\\.conda\\envs\\py3tf1gnt\\lib\\site-packages\\gpflow\\params\\parameter.py:385: The name tf.placeholder is deprecated. Please use tf.compat.v1.placeholder instead.\n",
      "\n",
      "W0617 05:14:03.411653 20500 deprecation_wrapper.py:118] From C:\\Users\\Rachael\\.conda\\envs\\py3tf1gnt\\lib\\site-packages\\gpflow\\params\\parameter.py:391: The name tf.get_variable is deprecated. Please use tf.compat.v1.get_variable instead.\n",
      "\n",
      "W0617 05:14:05.779827 20500 deprecation.py:323] From C:\\Users\\Rachael\\.conda\\envs\\py3tf1gnt\\lib\\site-packages\\tensorflow\\python\\ops\\array_grad.py:199: add_dispatch_support.<locals>.wrapper (from tensorflow.python.ops.array_ops) is deprecated and will be removed in a future version.\n",
      "Instructions for updating:\n",
      "Use tf.where in 2.0, which has the same broadcast rule as np.where\n"
     ]
    }
   ],
   "source": [
    "# construct ordinal likelihood\n",
    "bin_edges = np.array(np.arange(np.unique(Y).size + 1), dtype=float)\n",
    "bin_edges = bin_edges - bin_edges.mean()\n",
    "likelihood=gpflow.likelihoods.Ordinal(bin_edges)\n",
    "\n",
    "# build a model with this likelihood\n",
    "m = gpflow.models.VGP(X, Y,\n",
    "                   kern=gpflow.kernels.Matern32(1),\n",
    "                   likelihood=likelihood)\n",
    "\n",
    "#fit the model\n",
    "gpflow.train.ScipyOptimizer().minimize(m)"
   ]
  },
  {
   "cell_type": "code",
   "execution_count": 7,
   "metadata": {},
   "outputs": [
    {
     "data": {
      "text/plain": [
       "[<matplotlib.lines.Line2D at 0x19aab7a5b70>]"
      ]
     },
     "execution_count": 7,
     "metadata": {},
     "output_type": "execute_result"
    },
    {
     "data": {
      "image/png": "[encoded data removed]",
      "text/plain": [
       "<Figure size 1008x432 with 1 Axes>"
      ]
     },
     "metadata": {
      "needs_background": "light"
     },
     "output_type": "display_data"
    }
   ],
   "source": [
    "plt.figure(figsize=(14, 6))\n",
    "Xtest = np.linspace(m.X.read_value().min(), m.X.read_value().max(), 100).reshape(-1, 1)\n",
    "mu, var = m.predict_y(Xtest)\n",
    "line, = plt.plot(Xtest, mu, lw=2)\n",
    "col=line.get_color()\n",
    "plt.plot(Xtest, mu+2*np.sqrt(var), '--', lw=2, color=col)\n",
    "plt.plot(Xtest, mu-2*np.sqrt(var), '--', lw=2, color=col)\n",
    "plt.plot(m.X.read_value(), m.Y.read_value(), 'kx', mew=2)"
   ]
  },
  {
   "cell_type": "code",
   "execution_count": 8,
   "metadata": {},
   "outputs": [],
   "source": [
    "# to see the predictive density, try predicting every possible value.\n",
    "def pred_density(m):\n",
    "    Xtest = np.linspace(m.X.read_value().min(), m.X.read_value().max(), 100).reshape(-1, 1)\n",
    "    ys = np.arange(m.Y.read_value().max()+1)\n",
    "    densities = []\n",
    "    for y in ys:\n",
    "        Ytest = np.ones_like(Xtest) * y\n",
    "        densities.append(m.predict_density(Xtest, Ytest))\n",
    "    return np.hstack(densities).T"
   ]
  },
  {
   "cell_type": "code",
   "execution_count": 9,
   "metadata": {},
   "outputs": [
    {
     "name": "stderr",
     "output_type": "stream",
     "text": [
      "C:\\Users\\Rachael\\.conda\\envs\\py3tf1gnt\\lib\\site-packages\\ipykernel_launcher.py:3: UserWarning: Attempting to set identical left == right == 965.68463 results in singular transformations; automatically expanding.\n",
      "  This is separate from the ipykernel package so we can avoid doing imports until\n"
     ]
    },
    {
     "data": {
      "text/plain": [
       "[<matplotlib.lines.Line2D at 0x19aac1fb710>]"
      ]
     },
     "execution_count": 9,
     "metadata": {},
     "output_type": "execute_result"
    },
    {
     "data": {
      "image/png": "[encoded data removed]",
      "text/plain": [
       "<Figure size 432x288 with 2 Axes>"
      ]
     },
     "metadata": {
      "needs_background": "light"
     },
     "output_type": "display_data"
    }
   ],
   "source": [
    "plt.imshow(np.exp(pred_density(m)), interpolation='nearest',\n",
    "           extent=[m.X.read_value().min(), m.X.read_value().max(), -0.5, m.Y.read_value().max()+0.5],\n",
    "           origin='lower', aspect='auto', cmap=plt.cm.viridis)\n",
    "plt.colorbar()\n",
    "plt.plot(X, Y, 'kx', mew=2, scalex=False, scaley=False)"
   ]
  },
  {
   "cell_type": "code",
   "execution_count": null,
   "metadata": {},
   "outputs": [],
   "source": []
  }
 ],
 "metadata": {
  "kernelspec": {
   "display_name": "Python 3",
   "language": "python",
   "name": "python3"
  },
  "language_info": {
   "codemirror_mode": {
    "name": "ipython",
    "version": 3
   },
   "file_extension": ".py",
   "mimetype": "text/x-python",
   "name": "python",
   "nbconvert_exporter": "python",
   "pygments_lexer": "ipython3",
   "version": "3.7.3"
  }
 },
 "nbformat": 4,
 "nbformat_minor": 2
}
